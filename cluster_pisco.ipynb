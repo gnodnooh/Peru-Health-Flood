{
  "nbformat": 4,
  "nbformat_minor": 0,
  "metadata": {
    "colab": {
      "name": "cluster_pisco.ipynb",
      "provenance": [],
      "collapsed_sections": [],
      "include_colab_link": true
    },
    "kernelspec": {
      "name": "python3",
      "display_name": "Python 3"
    }
  },
  "cells": [
    {
      "cell_type": "markdown",
      "metadata": {
        "id": "view-in-github",
        "colab_type": "text"
      },
      "source": [
        "<a href=\"https://colab.research.google.com/github/gnodnooh/Peru-Health-Flood/blob/master/cluster_pisco.ipynb\" target=\"_parent\"><img src=\"https://colab.research.google.com/assets/colab-badge.svg\" alt=\"Open In Colab\"/></a>"
      ]
    },
    {
      "cell_type": "markdown",
      "metadata": {
        "id": "L8kgx6WxrwCt",
        "colab_type": "text"
      },
      "source": [
        "### This script investigates intensity of rainfall at selected clusters\n",
        "\n",
        "#### Donghoon Lee @ Oct-28-2019"
      ]
    },
    {
      "cell_type": "code",
      "metadata": {
        "id": "fgXaSR25rBNO",
        "colab_type": "code",
        "outputId": "d2e71241-cd2c-45ca-acd8-437add305641",
        "colab": {
          "base_uri": "https://localhost:8080/",
          "height": 54
        }
      },
      "source": [
        "import os\n",
        "import pandas as pd\n",
        "import numpy as np\n",
        "import geopandas as gpd\n",
        "import rasterio\n",
        "from shapely.geometry import Point\n",
        "from google.colab import drive\n",
        "drive.mount('/content/drive')\n",
        "projdir = './drive/My Drive/Colab Notebooks/peru_health_flood'\n",
        "import sys\n",
        "sys.path.append(projdir)\n",
        "import preprocessing as pp"
      ],
      "execution_count": 44,
      "outputs": [
        {
          "output_type": "stream",
          "text": [
            "Drive already mounted at /content/drive; to attempt to forcibly remount, call drive.mount(\"/content/drive\", force_remount=True).\n"
          ],
          "name": "stdout"
        }
      ]
    },
    {
      "cell_type": "markdown",
      "metadata": {
        "id": "o7bEO3RD9cpR",
        "colab_type": "text"
      },
      "source": [
        "Pandas dataframe from the CSV file"
      ]
    },
    {
      "cell_type": "code",
      "metadata": {
        "id": "n8YWE2-mrB2q",
        "colab_type": "code",
        "outputId": "fd6102f2-c419-4b68-97d3-b5464a81d5d9",
        "colab": {
          "base_uri": "https://localhost:8080/",
          "height": 204
        }
      },
      "source": [
        "filn_in = os.path.join(projdir, './data/Cluster_27-10-19.csv')\n",
        "df = pd.read_csv(filn_in, header=0).dropna()\n",
        "df = df.rename(columns={'distrito':'district',\n",
        "                       'latitud_a':'y',\n",
        "                       'longitud_a':'x'})\n",
        "df.head()"
      ],
      "execution_count": 59,
      "outputs": [
        {
          "output_type": "execute_result",
          "data": {
            "text/html": [
              "<div>\n",
              "<style scoped>\n",
              "    .dataframe tbody tr th:only-of-type {\n",
              "        vertical-align: middle;\n",
              "    }\n",
              "\n",
              "    .dataframe tbody tr th {\n",
              "        vertical-align: top;\n",
              "    }\n",
              "\n",
              "    .dataframe thead th {\n",
              "        text-align: right;\n",
              "    }\n",
              "</style>\n",
              "<table border=\"1\" class=\"dataframe\">\n",
              "  <thead>\n",
              "    <tr style=\"text-align: right;\">\n",
              "      <th></th>\n",
              "      <th>id</th>\n",
              "      <th>region</th>\n",
              "      <th>district</th>\n",
              "      <th>y</th>\n",
              "      <th>x</th>\n",
              "    </tr>\n",
              "  </thead>\n",
              "  <tbody>\n",
              "    <tr>\n",
              "      <th>0</th>\n",
              "      <td>1001</td>\n",
              "      <td>Amazonas</td>\n",
              "      <td>Aramango</td>\n",
              "      <td>-5.412300</td>\n",
              "      <td>-78.439110</td>\n",
              "    </tr>\n",
              "    <tr>\n",
              "      <th>1</th>\n",
              "      <td>2001</td>\n",
              "      <td>Amazonas</td>\n",
              "      <td>Aramango</td>\n",
              "      <td>-5.353548</td>\n",
              "      <td>-78.436368</td>\n",
              "    </tr>\n",
              "    <tr>\n",
              "      <th>2</th>\n",
              "      <td>3001</td>\n",
              "      <td>Amazonas</td>\n",
              "      <td>Aramango</td>\n",
              "      <td>-5.319083</td>\n",
              "      <td>-78.434840</td>\n",
              "    </tr>\n",
              "    <tr>\n",
              "      <th>3</th>\n",
              "      <td>4001</td>\n",
              "      <td>Amazonas</td>\n",
              "      <td>Aramango</td>\n",
              "      <td>-5.462448</td>\n",
              "      <td>-78.451157</td>\n",
              "    </tr>\n",
              "    <tr>\n",
              "      <th>4</th>\n",
              "      <td>5001</td>\n",
              "      <td>Amazonas</td>\n",
              "      <td>Aramango</td>\n",
              "      <td>-5.459933</td>\n",
              "      <td>-78.459775</td>\n",
              "    </tr>\n",
              "  </tbody>\n",
              "</table>\n",
              "</div>"
            ],
            "text/plain": [
              "     id    region   district         y          x\n",
              "0  1001  Amazonas   Aramango -5.412300 -78.439110\n",
              "1  2001  Amazonas   Aramango -5.353548 -78.436368\n",
              "2  3001  Amazonas   Aramango -5.319083 -78.434840\n",
              "3  4001  Amazonas   Aramango -5.462448 -78.451157\n",
              "4  5001  Amazonas   Aramango -5.459933 -78.459775"
            ]
          },
          "metadata": {
            "tags": []
          },
          "execution_count": 59
        }
      ]
    },
    {
      "cell_type": "markdown",
      "metadata": {
        "id": "jJESVauF1Zi5",
        "colab_type": "text"
      },
      "source": [
        "Generate cluster points as ESRI shapefile"
      ]
    },
    {
      "cell_type": "code",
      "metadata": {
        "id": "spzLmD6YrWli",
        "colab_type": "code",
        "outputId": "72068550-ec72-442c-9a05-13e20f5915f8",
        "colab": {
          "base_uri": "https://localhost:8080/",
          "height": 34
        }
      },
      "source": [
        "# GeoDataFrame needs a shapely object\n",
        "df['Coordinates'] = list(zip(df.x, df.y))           # Coordinates\n",
        "df['Coordinates'] = df['Coordinates'].apply(Point)  # tuples to Shapely's Point\n",
        "crs = {'init': 'epsg:4326'}\n",
        "gdf = gpd.GeoDataFrame(df, crs=crs, geometry='Coordinates')\n",
        "\n",
        "# Write ESRI shapefile\n",
        "filn_out = os.path.join(projdir, 'data/cluster.shp')\n",
        "gdf.to_file(filn_out)\n",
        "print('%s is saved.' % filn_out)"
      ],
      "execution_count": 62,
      "outputs": [
        {
          "output_type": "stream",
          "text": [
            "./drive/My Drive/Colab Notebooks/peru_health_flood/data/cluster.shp is saved.\n"
          ],
          "name": "stdout"
        }
      ]
    },
    {
      "cell_type": "code",
      "metadata": {
        "id": "ypY2MfXurmFT",
        "colab_type": "code",
        "colab": {
          "base_uri": "https://localhost:8080/",
          "height": 204
        },
        "outputId": "785a662e-f8b2-45d0-e689-d258029ccfde"
      },
      "source": [
        "gdf.head()"
      ],
      "execution_count": 63,
      "outputs": [
        {
          "output_type": "execute_result",
          "data": {
            "text/html": [
              "<div>\n",
              "<style scoped>\n",
              "    .dataframe tbody tr th:only-of-type {\n",
              "        vertical-align: middle;\n",
              "    }\n",
              "\n",
              "    .dataframe tbody tr th {\n",
              "        vertical-align: top;\n",
              "    }\n",
              "\n",
              "    .dataframe thead th {\n",
              "        text-align: right;\n",
              "    }\n",
              "</style>\n",
              "<table border=\"1\" class=\"dataframe\">\n",
              "  <thead>\n",
              "    <tr style=\"text-align: right;\">\n",
              "      <th></th>\n",
              "      <th>id</th>\n",
              "      <th>region</th>\n",
              "      <th>district</th>\n",
              "      <th>y</th>\n",
              "      <th>x</th>\n",
              "      <th>Coordinates</th>\n",
              "    </tr>\n",
              "  </thead>\n",
              "  <tbody>\n",
              "    <tr>\n",
              "      <th>0</th>\n",
              "      <td>1001</td>\n",
              "      <td>Amazonas</td>\n",
              "      <td>Aramango</td>\n",
              "      <td>-5.412300</td>\n",
              "      <td>-78.439110</td>\n",
              "      <td>POINT (-78.43911 -5.41230)</td>\n",
              "    </tr>\n",
              "    <tr>\n",
              "      <th>1</th>\n",
              "      <td>2001</td>\n",
              "      <td>Amazonas</td>\n",
              "      <td>Aramango</td>\n",
              "      <td>-5.353548</td>\n",
              "      <td>-78.436368</td>\n",
              "      <td>POINT (-78.43637 -5.35355)</td>\n",
              "    </tr>\n",
              "    <tr>\n",
              "      <th>2</th>\n",
              "      <td>3001</td>\n",
              "      <td>Amazonas</td>\n",
              "      <td>Aramango</td>\n",
              "      <td>-5.319083</td>\n",
              "      <td>-78.434840</td>\n",
              "      <td>POINT (-78.43484 -5.31908)</td>\n",
              "    </tr>\n",
              "    <tr>\n",
              "      <th>3</th>\n",
              "      <td>4001</td>\n",
              "      <td>Amazonas</td>\n",
              "      <td>Aramango</td>\n",
              "      <td>-5.462448</td>\n",
              "      <td>-78.451157</td>\n",
              "      <td>POINT (-78.45116 -5.46245)</td>\n",
              "    </tr>\n",
              "    <tr>\n",
              "      <th>4</th>\n",
              "      <td>5001</td>\n",
              "      <td>Amazonas</td>\n",
              "      <td>Aramango</td>\n",
              "      <td>-5.459933</td>\n",
              "      <td>-78.459775</td>\n",
              "      <td>POINT (-78.45977 -5.45993)</td>\n",
              "    </tr>\n",
              "  </tbody>\n",
              "</table>\n",
              "</div>"
            ],
            "text/plain": [
              "     id    region   district         y          x                 Coordinates\n",
              "0  1001  Amazonas   Aramango -5.412300 -78.439110  POINT (-78.43911 -5.41230)\n",
              "1  2001  Amazonas   Aramango -5.353548 -78.436368  POINT (-78.43637 -5.35355)\n",
              "2  3001  Amazonas   Aramango -5.319083 -78.434840  POINT (-78.43484 -5.31908)\n",
              "3  4001  Amazonas   Aramango -5.462448 -78.451157  POINT (-78.45116 -5.46245)\n",
              "4  5001  Amazonas   Aramango -5.459933 -78.459775  POINT (-78.45977 -5.45993)"
            ]
          },
          "metadata": {
            "tags": []
          },
          "execution_count": 63
        }
      ]
    },
    {
      "cell_type": "code",
      "metadata": {
        "id": "i6DUnii5-ufP",
        "colab_type": "code",
        "colab": {}
      },
      "source": [
        ""
      ],
      "execution_count": 0,
      "outputs": []
    },
    {
      "cell_type": "markdown",
      "metadata": {
        "id": "lytDE5qO-2CV",
        "colab_type": "text"
      },
      "source": [
        "#### Tasks\n",
        "> Determine the average rainfall only for the months of February and March from 1980 to 2010 and excluding from the analysis the years 1982, 1983, 1997 and 1998 (years of the occurrence of Niño phenomena)\n",
        "\n",
        "> Determine the average of the sum of rainfall only for the months of February and March from 1980 to 2010 and excluding from the analysis the years 1982, 1983, 1997 and 1998 (years of the occurrence of Niño phenomena)\n",
        "\n",
        "> Determine the average rainfall only for the months of February and March of the year 2017 (Coastal Niño)\n",
        "\n",
        "> Determine the total sum of rainfall only for the months of February and March of the year 2017 (Coastal Niño)\n",
        "\n",
        "> The previous analyzes can be done with the Pisco raster files for all of Peru (that information would serve us for future analysis) and then extract the information for each of my cluster (3584), or you can also extract it only for my cluster. (attached file of my cluster)"
      ]
    },
    {
      "cell_type": "code",
      "metadata": {
        "id": "jZnrCHXR-7KU",
        "colab_type": "code",
        "colab": {}
      },
      "source": [
        ""
      ],
      "execution_count": 0,
      "outputs": []
    }
  ]
}