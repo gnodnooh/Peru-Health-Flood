{
  "nbformat": 4,
  "nbformat_minor": 0,
  "metadata": {
    "colab": {
      "name": "cluster_rainfall_pisco.ipynb",
      "provenance": [],
      "collapsed_sections": [],
      "include_colab_link": true
    },
    "kernelspec": {
      "name": "python3",
      "display_name": "Python 3"
    }
  },
  "cells": [
    {
      "cell_type": "markdown",
      "metadata": {
        "id": "view-in-github",
        "colab_type": "text"
      },
      "source": [
        "<a href=\"https://colab.research.google.com/github/gnodnooh/Peru-Health-Flood/blob/master/cluster_rainfall_pisco.ipynb\" target=\"_parent\"><img src=\"https://colab.research.google.com/assets/colab-badge.svg\" alt=\"Open In Colab\"/></a>"
      ]
    },
    {
      "cell_type": "markdown",
      "metadata": {
        "id": "7_DHD4XBmfi_",
        "colab_type": "text"
      },
      "source": [
        "## This script investigates intensity of rainfall at selected clusters\n",
        "\n",
        "### Donghoon Lee @ Oct-28-2019"
      ]
    },
    {
      "cell_type": "code",
      "metadata": {
        "id": "2E9Az4uzmji1",
        "colab_type": "code",
        "colab": {}
      },
      "source": [
        ""
      ],
      "execution_count": 0,
      "outputs": []
    }
  ]
}