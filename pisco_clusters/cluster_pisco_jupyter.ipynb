{
 "cells": [
  {
   "cell_type": "markdown",
   "metadata": {},
   "source": [
    "## This script investigates intensity of rainfall at selected clusters\n",
    "\n",
    "#### Donghoon Lee @ Oct-28-2019"
   ]
  },
  {
   "cell_type": "code",
   "execution_count": 1,
   "metadata": {},
   "outputs": [],
   "source": [
    "import os\n",
    "import sys\n",
    "import pandas as pd\n",
    "import numpy as np\n",
    "import geopandas as gpd\n",
    "import rasterio\n",
    "from shapely.geometry import Point"
   ]
  },
  {
   "cell_type": "code",
   "execution_count": 2,
   "metadata": {},
   "outputs": [
    {
     "data": {
      "text/html": [
       "<div>\n",
       "<style scoped>\n",
       "    .dataframe tbody tr th:only-of-type {\n",
       "        vertical-align: middle;\n",
       "    }\n",
       "\n",
       "    .dataframe tbody tr th {\n",
       "        vertical-align: top;\n",
       "    }\n",
       "\n",
       "    .dataframe thead th {\n",
       "        text-align: right;\n",
       "    }\n",
       "</style>\n",
       "<table border=\"1\" class=\"dataframe\">\n",
       "  <thead>\n",
       "    <tr style=\"text-align: right;\">\n",
       "      <th></th>\n",
       "      <th>id</th>\n",
       "      <th>region</th>\n",
       "      <th>district</th>\n",
       "      <th>y</th>\n",
       "      <th>x</th>\n",
       "    </tr>\n",
       "  </thead>\n",
       "  <tbody>\n",
       "    <tr>\n",
       "      <td>0</td>\n",
       "      <td>1001</td>\n",
       "      <td>Amazonas</td>\n",
       "      <td>Aramango</td>\n",
       "      <td>-5.412300</td>\n",
       "      <td>-78.439110</td>\n",
       "    </tr>\n",
       "    <tr>\n",
       "      <td>1</td>\n",
       "      <td>2001</td>\n",
       "      <td>Amazonas</td>\n",
       "      <td>Aramango</td>\n",
       "      <td>-5.353548</td>\n",
       "      <td>-78.436368</td>\n",
       "    </tr>\n",
       "    <tr>\n",
       "      <td>2</td>\n",
       "      <td>3001</td>\n",
       "      <td>Amazonas</td>\n",
       "      <td>Aramango</td>\n",
       "      <td>-5.319083</td>\n",
       "      <td>-78.434840</td>\n",
       "    </tr>\n",
       "    <tr>\n",
       "      <td>3</td>\n",
       "      <td>4001</td>\n",
       "      <td>Amazonas</td>\n",
       "      <td>Aramango</td>\n",
       "      <td>-5.462448</td>\n",
       "      <td>-78.451157</td>\n",
       "    </tr>\n",
       "    <tr>\n",
       "      <td>4</td>\n",
       "      <td>5001</td>\n",
       "      <td>Amazonas</td>\n",
       "      <td>Aramango</td>\n",
       "      <td>-5.459933</td>\n",
       "      <td>-78.459775</td>\n",
       "    </tr>\n",
       "  </tbody>\n",
       "</table>\n",
       "</div>"
      ],
      "text/plain": [
       "     id    region   district         y          x\n",
       "0  1001  Amazonas   Aramango -5.412300 -78.439110\n",
       "1  2001  Amazonas   Aramango -5.353548 -78.436368\n",
       "2  3001  Amazonas   Aramango -5.319083 -78.434840\n",
       "3  4001  Amazonas   Aramango -5.462448 -78.451157\n",
       "4  5001  Amazonas   Aramango -5.459933 -78.459775"
      ]
     },
     "execution_count": 2,
     "metadata": {},
     "output_type": "execute_result"
    }
   ],
   "source": [
    "filn_in = os.path.join('./data/Cluster_27-10-19.csv')\n",
    "df = pd.read_csv(filn_in, header=0).dropna()\n",
    "df = df.rename(columns={'distrito':'district',\n",
    "                       'latitud_a':'y',\n",
    "                       'longitud_a':'x'})\n",
    "df.head()"
   ]
  },
  {
   "cell_type": "code",
   "execution_count": 3,
   "metadata": {},
   "outputs": [
    {
     "name": "stdout",
     "output_type": "stream",
     "text": [
      "data/cluster.shp is saved.\n"
     ]
    }
   ],
   "source": [
    "# GeoDataFrame needs a shapely object\n",
    "df['Coordinates'] = list(zip(df.x, df.y))           # Coordinates\n",
    "df['Coordinates'] = df['Coordinates'].apply(Point)  # tuples to Shapely's Point\n",
    "crs = {'init': 'epsg:4326'}\n",
    "gdf = gpd.GeoDataFrame(df, crs=crs, geometry='Coordinates')\n",
    "\n",
    "# Write ESRI shapefile\n",
    "filn_out = os.path.join('data/cluster.shp')\n",
    "gdf.to_file(filn_out)\n",
    "print('%s is saved.' % filn_out)"
   ]
  },
  {
   "cell_type": "markdown",
   "metadata": {},
   "source": [
    "Information of shapefile we just generated (./data/cluster.shp)"
   ]
  },
  {
   "cell_type": "code",
   "execution_count": 6,
   "metadata": {},
   "outputs": [
    {
     "data": {
      "text/html": [
       "<div>\n",
       "<style scoped>\n",
       "    .dataframe tbody tr th:only-of-type {\n",
       "        vertical-align: middle;\n",
       "    }\n",
       "\n",
       "    .dataframe tbody tr th {\n",
       "        vertical-align: top;\n",
       "    }\n",
       "\n",
       "    .dataframe thead th {\n",
       "        text-align: right;\n",
       "    }\n",
       "</style>\n",
       "<table border=\"1\" class=\"dataframe\">\n",
       "  <thead>\n",
       "    <tr style=\"text-align: right;\">\n",
       "      <th></th>\n",
       "      <th>id</th>\n",
       "      <th>region</th>\n",
       "      <th>district</th>\n",
       "      <th>y</th>\n",
       "      <th>x</th>\n",
       "      <th>Coordinates</th>\n",
       "    </tr>\n",
       "  </thead>\n",
       "  <tbody>\n",
       "    <tr>\n",
       "      <td>0</td>\n",
       "      <td>1001</td>\n",
       "      <td>Amazonas</td>\n",
       "      <td>Aramango</td>\n",
       "      <td>-5.412300</td>\n",
       "      <td>-78.439110</td>\n",
       "      <td>POINT (-78.43911 -5.4123)</td>\n",
       "    </tr>\n",
       "    <tr>\n",
       "      <td>1</td>\n",
       "      <td>2001</td>\n",
       "      <td>Amazonas</td>\n",
       "      <td>Aramango</td>\n",
       "      <td>-5.353548</td>\n",
       "      <td>-78.436368</td>\n",
       "      <td>POINT (-78.43636832999998 -5.353548332)</td>\n",
       "    </tr>\n",
       "    <tr>\n",
       "      <td>2</td>\n",
       "      <td>3001</td>\n",
       "      <td>Amazonas</td>\n",
       "      <td>Aramango</td>\n",
       "      <td>-5.319083</td>\n",
       "      <td>-78.434840</td>\n",
       "      <td>POINT (-78.43483999999998 -5.319083333)</td>\n",
       "    </tr>\n",
       "    <tr>\n",
       "      <td>3</td>\n",
       "      <td>4001</td>\n",
       "      <td>Amazonas</td>\n",
       "      <td>Aramango</td>\n",
       "      <td>-5.462448</td>\n",
       "      <td>-78.451157</td>\n",
       "      <td>POINT (-78.45115666 -5.462448332)</td>\n",
       "    </tr>\n",
       "    <tr>\n",
       "      <td>4</td>\n",
       "      <td>5001</td>\n",
       "      <td>Amazonas</td>\n",
       "      <td>Aramango</td>\n",
       "      <td>-5.459933</td>\n",
       "      <td>-78.459775</td>\n",
       "      <td>POINT (-78.45977499 -5.459933332)</td>\n",
       "    </tr>\n",
       "  </tbody>\n",
       "</table>\n",
       "</div>"
      ],
      "text/plain": [
       "     id    region   district         y          x  \\\n",
       "0  1001  Amazonas   Aramango -5.412300 -78.439110   \n",
       "1  2001  Amazonas   Aramango -5.353548 -78.436368   \n",
       "2  3001  Amazonas   Aramango -5.319083 -78.434840   \n",
       "3  4001  Amazonas   Aramango -5.462448 -78.451157   \n",
       "4  5001  Amazonas   Aramango -5.459933 -78.459775   \n",
       "\n",
       "                               Coordinates  \n",
       "0                POINT (-78.43911 -5.4123)  \n",
       "1  POINT (-78.43636832999998 -5.353548332)  \n",
       "2  POINT (-78.43483999999998 -5.319083333)  \n",
       "3        POINT (-78.45115666 -5.462448332)  \n",
       "4        POINT (-78.45977499 -5.459933332)  "
      ]
     },
     "execution_count": 6,
     "metadata": {},
     "output_type": "execute_result"
    }
   ],
   "source": [
    "gdf.head()"
   ]
  },
  {
   "cell_type": "markdown",
   "metadata": {},
   "source": [
    "Load PISCO data and Select time-series of grids that clusters are located"
   ]
  },
  {
   "cell_type": "code",
   "execution_count": 7,
   "metadata": {},
   "outputs": [],
   "source": [
    "# Load Daily Unstable PISCO v2.1beta (1981-1-1 to 2018-07-31)\n",
    "dir_out = '/Users/dlee/data/pisco/PISCOp_V2.1_beta/Daily_Products/unstable/'\n",
    "file_out = dir_out+'piscopd_180731_dlee.npz'\n",
    "temp = np.load(file_out)\n",
    "prcp, lat, lon = temp['prcp'], temp['lat'], temp['lon']\n",
    "nlat = len(lat)\n",
    "nlon = len(lon)\n",
    "tim = pd.to_datetime(temp['tim']); tim.freq = 'D'\n",
    "# Reshape the data to 2D ndarray\n",
    "prcp = np.transpose(prcp, [0,2,1])\n",
    "prcp = np.reshape(prcp, [tim.shape[0], nlat*nlon])\n",
    "\n",
    "# Read transform from sample GeoTiff file\n",
    "import rasterio\n",
    "sample = '/Users/dlee/data/pisco/PISCOp_V2.1_beta/Daily_Products/unstable/PISCOpd/PISCOpd_V2.1.1981-01-01.tif'\n",
    "# Generate index of coordinates\n",
    "inds = []\n",
    "with rasterio.open(sample) as src:\n",
    "    for _, row in gdf.iterrows():\n",
    "        inds.append(np.ravel_multi_index(src.index(row.x, row.y),\\\n",
    "                                         [nlat,nlon], order='F'))     # Validated mannually\n",
    "\n",
    "# Select grids of clusters\n",
    "prcp_pisco = prcp[:,inds]    # (Validated)"
   ]
  },
  {
   "cell_type": "code",
   "execution_count": 8,
   "metadata": {},
   "outputs": [
    {
     "name": "stdout",
     "output_type": "stream",
     "text": [
      "13726\n",
      "3572\n",
      "(13726, 3572)\n"
     ]
    }
   ],
   "source": [
    "# Convert to dataframe\n",
    "df = pd.DataFrame(prcp_pisco, index=tim, columns=gdf.id)\n",
    "\n",
    "print(len(tim))\n",
    "print(len(gdf))\n",
    "print(df.shape)"
   ]
  },
  {
   "cell_type": "code",
   "execution_count": 10,
   "metadata": {},
   "outputs": [
    {
     "data": {
      "text/plain": [
       "array([ True,  True,  True, ..., False, False, False])"
      ]
     },
     "execution_count": 10,
     "metadata": {},
     "output_type": "execute_result"
    }
   ],
   "source": [
    "# df[[1001,10001]].resample(\"1m\").mean().plot(subplots=True)\n",
    "\n",
    "# ref = \n",
    "a = df[[1001]]\n",
    "a.index <= '2011-01-01'"
   ]
  },
  {
   "cell_type": "code",
   "execution_count": 11,
   "metadata": {},
   "outputs": [
    {
     "data": {
      "text/html": [
       "<div>\n",
       "<style scoped>\n",
       "    .dataframe tbody tr th:only-of-type {\n",
       "        vertical-align: middle;\n",
       "    }\n",
       "\n",
       "    .dataframe tbody tr th {\n",
       "        vertical-align: top;\n",
       "    }\n",
       "\n",
       "    .dataframe thead th {\n",
       "        text-align: right;\n",
       "    }\n",
       "</style>\n",
       "<table border=\"1\" class=\"dataframe\">\n",
       "  <thead>\n",
       "    <tr style=\"text-align: right;\">\n",
       "      <th>id</th>\n",
       "      <th>1001</th>\n",
       "      <th>2001</th>\n",
       "      <th>3001</th>\n",
       "      <th>4001</th>\n",
       "      <th>5001</th>\n",
       "      <th>6001</th>\n",
       "      <th>7001</th>\n",
       "      <th>8001</th>\n",
       "      <th>9001</th>\n",
       "      <th>10001</th>\n",
       "      <th>...</th>\n",
       "      <th>35750025</th>\n",
       "      <th>35760025</th>\n",
       "      <th>35770025</th>\n",
       "      <th>35780025</th>\n",
       "      <th>35790025</th>\n",
       "      <th>35800025</th>\n",
       "      <th>35810025</th>\n",
       "      <th>35820025</th>\n",
       "      <th>35830025</th>\n",
       "      <th>35840025</th>\n",
       "    </tr>\n",
       "  </thead>\n",
       "  <tbody>\n",
       "    <tr>\n",
       "      <td>1981-01-31</td>\n",
       "      <td>4.429976</td>\n",
       "      <td>6.891397</td>\n",
       "      <td>6.891397</td>\n",
       "      <td>4.429976</td>\n",
       "      <td>4.429976</td>\n",
       "      <td>4.429976</td>\n",
       "      <td>1.687374</td>\n",
       "      <td>1.687374</td>\n",
       "      <td>1.687374</td>\n",
       "      <td>1.687374</td>\n",
       "      <td>...</td>\n",
       "      <td>6.963278</td>\n",
       "      <td>6.963278</td>\n",
       "      <td>6.963278</td>\n",
       "      <td>6.963278</td>\n",
       "      <td>6.963278</td>\n",
       "      <td>6.963278</td>\n",
       "      <td>6.963278</td>\n",
       "      <td>6.963278</td>\n",
       "      <td>6.963278</td>\n",
       "      <td>7.865619</td>\n",
       "    </tr>\n",
       "    <tr>\n",
       "      <td>1981-02-28</td>\n",
       "      <td>5.036967</td>\n",
       "      <td>5.740608</td>\n",
       "      <td>5.740608</td>\n",
       "      <td>5.036967</td>\n",
       "      <td>5.036967</td>\n",
       "      <td>5.036967</td>\n",
       "      <td>4.753868</td>\n",
       "      <td>4.753868</td>\n",
       "      <td>4.753868</td>\n",
       "      <td>4.753868</td>\n",
       "      <td>...</td>\n",
       "      <td>4.533327</td>\n",
       "      <td>4.533327</td>\n",
       "      <td>4.533327</td>\n",
       "      <td>4.533327</td>\n",
       "      <td>4.533327</td>\n",
       "      <td>4.533327</td>\n",
       "      <td>4.533327</td>\n",
       "      <td>4.533327</td>\n",
       "      <td>4.533327</td>\n",
       "      <td>4.938926</td>\n",
       "    </tr>\n",
       "    <tr>\n",
       "      <td>1981-03-31</td>\n",
       "      <td>6.348108</td>\n",
       "      <td>7.220312</td>\n",
       "      <td>7.220312</td>\n",
       "      <td>6.348108</td>\n",
       "      <td>6.348108</td>\n",
       "      <td>6.348108</td>\n",
       "      <td>4.999495</td>\n",
       "      <td>4.999495</td>\n",
       "      <td>4.999495</td>\n",
       "      <td>4.999495</td>\n",
       "      <td>...</td>\n",
       "      <td>3.672001</td>\n",
       "      <td>3.672001</td>\n",
       "      <td>3.672001</td>\n",
       "      <td>3.672001</td>\n",
       "      <td>3.672001</td>\n",
       "      <td>3.672001</td>\n",
       "      <td>3.672001</td>\n",
       "      <td>3.672001</td>\n",
       "      <td>3.672001</td>\n",
       "      <td>3.944103</td>\n",
       "    </tr>\n",
       "    <tr>\n",
       "      <td>1981-04-30</td>\n",
       "      <td>2.805945</td>\n",
       "      <td>3.446990</td>\n",
       "      <td>3.446990</td>\n",
       "      <td>2.805945</td>\n",
       "      <td>2.805945</td>\n",
       "      <td>2.805945</td>\n",
       "      <td>3.506111</td>\n",
       "      <td>3.506111</td>\n",
       "      <td>3.506111</td>\n",
       "      <td>3.506111</td>\n",
       "      <td>...</td>\n",
       "      <td>8.088258</td>\n",
       "      <td>8.088258</td>\n",
       "      <td>8.088258</td>\n",
       "      <td>8.088258</td>\n",
       "      <td>8.088258</td>\n",
       "      <td>8.088258</td>\n",
       "      <td>8.088258</td>\n",
       "      <td>8.088258</td>\n",
       "      <td>8.088258</td>\n",
       "      <td>6.850173</td>\n",
       "    </tr>\n",
       "    <tr>\n",
       "      <td>1981-05-31</td>\n",
       "      <td>3.973523</td>\n",
       "      <td>5.090751</td>\n",
       "      <td>5.090751</td>\n",
       "      <td>3.973523</td>\n",
       "      <td>3.973523</td>\n",
       "      <td>3.973523</td>\n",
       "      <td>2.482118</td>\n",
       "      <td>2.482118</td>\n",
       "      <td>2.482118</td>\n",
       "      <td>2.482118</td>\n",
       "      <td>...</td>\n",
       "      <td>8.637032</td>\n",
       "      <td>8.637032</td>\n",
       "      <td>8.637032</td>\n",
       "      <td>8.637032</td>\n",
       "      <td>8.637032</td>\n",
       "      <td>8.637032</td>\n",
       "      <td>8.637032</td>\n",
       "      <td>8.637032</td>\n",
       "      <td>8.637032</td>\n",
       "      <td>6.724232</td>\n",
       "    </tr>\n",
       "  </tbody>\n",
       "</table>\n",
       "<p>5 rows × 3572 columns</p>\n",
       "</div>"
      ],
      "text/plain": [
       "id          1001      2001      3001      4001      5001      6001      \\\n",
       "1981-01-31  4.429976  6.891397  6.891397  4.429976  4.429976  4.429976   \n",
       "1981-02-28  5.036967  5.740608  5.740608  5.036967  5.036967  5.036967   \n",
       "1981-03-31  6.348108  7.220312  7.220312  6.348108  6.348108  6.348108   \n",
       "1981-04-30  2.805945  3.446990  3.446990  2.805945  2.805945  2.805945   \n",
       "1981-05-31  3.973523  5.090751  5.090751  3.973523  3.973523  3.973523   \n",
       "\n",
       "id          7001      8001      9001      10001     ...  35750025  35760025  \\\n",
       "1981-01-31  1.687374  1.687374  1.687374  1.687374  ...  6.963278  6.963278   \n",
       "1981-02-28  4.753868  4.753868  4.753868  4.753868  ...  4.533327  4.533327   \n",
       "1981-03-31  4.999495  4.999495  4.999495  4.999495  ...  3.672001  3.672001   \n",
       "1981-04-30  3.506111  3.506111  3.506111  3.506111  ...  8.088258  8.088258   \n",
       "1981-05-31  2.482118  2.482118  2.482118  2.482118  ...  8.637032  8.637032   \n",
       "\n",
       "id          35770025  35780025  35790025  35800025  35810025  35820025  \\\n",
       "1981-01-31  6.963278  6.963278  6.963278  6.963278  6.963278  6.963278   \n",
       "1981-02-28  4.533327  4.533327  4.533327  4.533327  4.533327  4.533327   \n",
       "1981-03-31  3.672001  3.672001  3.672001  3.672001  3.672001  3.672001   \n",
       "1981-04-30  8.088258  8.088258  8.088258  8.088258  8.088258  8.088258   \n",
       "1981-05-31  8.637032  8.637032  8.637032  8.637032  8.637032  8.637032   \n",
       "\n",
       "id          35830025  35840025  \n",
       "1981-01-31  6.963278  7.865619  \n",
       "1981-02-28  4.533327  4.938926  \n",
       "1981-03-31  3.672001  3.944103  \n",
       "1981-04-30  8.088258  6.850173  \n",
       "1981-05-31  8.637032  6.724232  \n",
       "\n",
       "[5 rows x 3572 columns]"
      ]
     },
     "execution_count": 11,
     "metadata": {},
     "output_type": "execute_result"
    }
   ],
   "source": [
    "# Monthly precipitation climatology (mean and max)\n",
    "monMean = df.resample(\"1m\").mean()\n",
    "monMax = df.resample(\"1m\").max()\n",
    "monMean.head()"
   ]
  },
  {
   "cell_type": "markdown",
   "metadata": {},
   "source": [
    "### Tasks\n",
    "1. Determine the average rainfall only for the months of February and March from 1980 to 2010 and excluding from the analysis the years 1982, 1983, 1997 and 1998 (years of the occurrence of Niño phenomena)"
   ]
  },
  {
   "cell_type": "code",
   "execution_count": 12,
   "metadata": {},
   "outputs": [],
   "source": [
    "prcp_feb_mean = df[df.index.month==2].mean()\n",
    "prcp_feb_mean = df[df.index.month==2].max()"
   ]
  },
  {
   "cell_type": "code",
   "execution_count": 14,
   "metadata": {},
   "outputs": [
    {
     "data": {
      "text/plain": [
       "id\n",
       "1001         72.922752\n",
       "2001         91.931229\n",
       "3001         91.931229\n",
       "4001         72.922752\n",
       "5001         72.922752\n",
       "               ...    \n",
       "35800025     89.631165\n",
       "35810025     89.631165\n",
       "35820025     89.631165\n",
       "35830025     89.631165\n",
       "35840025    113.940224\n",
       "Length: 3572, dtype: float64"
      ]
     },
     "execution_count": 14,
     "metadata": {},
     "output_type": "execute_result"
    }
   ],
   "source": [
    "prcp_feb_mean"
   ]
  },
  {
   "cell_type": "markdown",
   "metadata": {},
   "source": [
    "2. Determine the average of the sum of rainfall only for the months of February and March from 1980 to 2010 and excluding from the analysis the years 1982, 1983, 1997 and 1998 (years of the occurrence of Niño phenomena)"
   ]
  },
  {
   "cell_type": "code",
   "execution_count": null,
   "metadata": {},
   "outputs": [],
   "source": []
  },
  {
   "cell_type": "markdown",
   "metadata": {},
   "source": [
    "3. Determine the average rainfall only for the months of February and March of the year 2017 (Coastal Niño)"
   ]
  },
  {
   "cell_type": "code",
   "execution_count": null,
   "metadata": {},
   "outputs": [],
   "source": []
  },
  {
   "cell_type": "markdown",
   "metadata": {},
   "source": [
    "4. Determine the total sum of rainfall only for the months of February and March of the year 2017 (Coastal Niño)"
   ]
  },
  {
   "cell_type": "code",
   "execution_count": null,
   "metadata": {},
   "outputs": [],
   "source": []
  },
  {
   "cell_type": "markdown",
   "metadata": {},
   "source": [
    "5. The previous analyzes can be done with the Pisco raster files for all of Peru (that information would serve us for future analysis) and then extract the information for each of my cluster (3584), or you can also extract it only for my cluster. (attached file of my cluster)"
   ]
  },
  {
   "cell_type": "code",
   "execution_count": null,
   "metadata": {},
   "outputs": [],
   "source": []
  },
  {
   "cell_type": "code",
   "execution_count": null,
   "metadata": {},
   "outputs": [],
   "source": []
  }
 ],
 "metadata": {
  "kernelspec": {
   "display_name": "Python 3",
   "language": "python",
   "name": "python3"
  },
  "language_info": {
   "codemirror_mode": {
    "name": "ipython",
    "version": 3
   },
   "file_extension": ".py",
   "mimetype": "text/x-python",
   "name": "python",
   "nbconvert_exporter": "python",
   "pygments_lexer": "ipython3",
   "version": "3.6.7"
  }
 },
 "nbformat": 4,
 "nbformat_minor": 2
}
