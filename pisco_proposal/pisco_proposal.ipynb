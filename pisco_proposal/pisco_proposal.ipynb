{
 "cells": [
  {
   "cell_type": "markdown",
   "metadata": {},
   "source": [
    "## This script generates PISCO JFM total precipitation map\n",
    "\n",
    "#### Donghoon Lee @ Nov-3-2019"
   ]
  },
  {
   "cell_type": "code",
   "execution_count": 1,
   "metadata": {},
   "outputs": [],
   "source": [
    "import os\n",
    "import sys\n",
    "import pandas as pd\n",
    "import numpy as np\n",
    "import geopandas as gpd\n",
    "import rasterio\n",
    "from shapely.geometry import Point"
   ]
  },
  {
   "cell_type": "markdown",
   "metadata": {},
   "source": [
    "### Load PISCO data"
   ]
  },
  {
   "cell_type": "code",
   "execution_count": 2,
   "metadata": {},
   "outputs": [],
   "source": [
    "# Load Daily Unstable PISCO v2.1beta (1981-1-1 to 2018-07-31)\n",
    "dir_out = '/Users/dlee/data/pisco/PISCOp_V2.1_beta/Daily_Products/unstable/'\n",
    "file_out = dir_out+'piscopd_180731_dlee.npz'\n",
    "temp = np.load(file_out)\n",
    "prcp, lat, lon = temp['prcp'], temp['lat'], temp['lon']\n",
    "nlat = len(lat)\n",
    "nlon = len(lon)\n",
    "tim = pd.to_datetime(temp['tim']); tim.freq = 'D'\n",
    "# Reshape the data to 2D ndarray\n",
    "prcp = np.transpose(prcp, [0,2,1])\n",
    "prcp = np.reshape(prcp, [tim.shape[0], nlat*nlon])"
   ]
  },
  {
   "cell_type": "markdown",
   "metadata": {},
   "source": [
    "### Select JFM total precipitation\n",
    "**TO BE UPDATE TO USE [XARRAY](http://xarray.pydata.org/en/stable/examples/monthly-means.html)**"
   ]
  },
  {
   "cell_type": "code",
   "execution_count": 3,
   "metadata": {},
   "outputs": [],
   "source": [
    "prcp_jfm = np.full([len(np.unique(tim.year)), prcp.shape[1]], np.nan)\n",
    "for i, yr in enumerate(np.unique(tim.year)):\n",
    "    idx = (tim.year == yr) & tim.month.isin([1,2,3])\n",
    "    prcp_jfm[i,:] = prcp[idx,:].sum(0)\n",
    "prcp_jfm = prcp_jfm.mean(0)\n",
    "# Reshape to 2D ndarray\n",
    "prcp_jfm = prcp_jfm.reshape([nlon,nlat]).transpose()\n",
    "# Mask ocean\n",
    "prcp_jfm[prcp_jfm < 0] = np.nan"
   ]
  },
  {
   "cell_type": "markdown",
   "metadata": {},
   "source": [
    "### Save as GeoTiff format"
   ]
  },
  {
   "cell_type": "code",
   "execution_count": 4,
   "metadata": {},
   "outputs": [],
   "source": [
    "# Read transform from sample GeoTiff file\n",
    "import rasterio\n",
    "sample = '/Users/dlee/data/pisco/PISCOp_V2.1_beta/Daily_Products/unstable/PISCOpd/PISCOpd_V2.1.1981-01-01.tif'\n",
    "with rasterio.open(sample) as src:\n",
    "    map_meta = src.profile\n",
    "with rasterio.open('./pisco_jfm_total_prcp.tif', 'w', **map_meta) as dst:\n",
    "    dst.write(prcp_jfm.astype('float32'), 1)\n"
   ]
  },
  {
   "cell_type": "markdown",
   "metadata": {},
   "source": [
    "### Mask with a shapefile"
   ]
  },
  {
   "cell_type": "code",
   "execution_count": 5,
   "metadata": {},
   "outputs": [],
   "source": [
    "import fiona\n",
    "import rasterio.mask\n",
    "in_ras = './pisco_jfm_total_prcp.tif'\n",
    "in_shp = './DEPARTAMENTOS.shp'\n",
    "# Load a raster\n",
    "with fiona.open(in_shp, 'r') as shapefile:\n",
    "    features = [feature[\"geometry\"] for feature in shapefile]\n",
    "# Mask with features\n",
    "with rasterio.open(in_ras) as src:\n",
    "    out_image, out_transform = rasterio.mask.mask(src, features, \n",
    "                                                  crop=True)\n",
    "    out_meta = src.meta.copy()\n",
    "    out_meta.update({\"driver\": \"GTiff\",\n",
    "                     \"dtype\": 'float32',\n",
    "                     'compress': 'lzw',\n",
    "                     \"height\": out_image.shape[1],\n",
    "                     \"width\": out_image.shape[2],\n",
    "                     \"transform\": out_transform})\n",
    "with rasterio.open(in_ras, \"w\", **out_meta) as dest:\n",
    "    dest.write(out_image)\n"
   ]
  },
  {
   "cell_type": "markdown",
   "metadata": {},
   "source": [
    "### Time-series of Tanca and Iquitos\n",
    "Let's just do it with coordinates..."
   ]
  },
  {
   "cell_type": "code",
   "execution_count": 31,
   "metadata": {},
   "outputs": [
    {
     "name": "stdout",
     "output_type": "stream",
     "text": [
      "extract_points.shp is saved.\n"
     ]
    }
   ],
   "source": [
    "# Extracting points\n",
    "Piura = np.array([-79.846, -5.055])\n",
    "Iquitos = np.array([-73.835, -3.850])\n",
    "Tacna = np.array([-70.251, -18.013])\n",
    "coord = np.vstack([Piura, Iquitos, Tacna])\n",
    "# df = pd.DataFrame(coord, index=['Piura','Iquitos'], columns=['x','y'])\n",
    "df = pd.DataFrame(coord, index=['Piura','Iquitos', 'Tacna'], columns=['x','y'])\n",
    "df['name'] = ['Piura', 'Iquitos', 'Tacna']\n",
    "# GeoDataFrame needs a shapely object\n",
    "df['Coordinates'] = list(zip(df.x, df.y))           # Coordinates\n",
    "df['Coordinates'] = df['Coordinates'].apply(Point)  # tuples to Shapely's Point\n",
    "crs = {'init': 'epsg:4326'}\n",
    "gdf = gpd.GeoDataFrame(df, crs=crs, geometry='Coordinates')\n",
    "# Write ESRI shapefile\n",
    "filn_out = os.path.join('extract_points.shp')\n",
    "gdf.to_file(filn_out)\n",
    "print('%s is saved.' % filn_out)"
   ]
  },
  {
   "cell_type": "code",
   "execution_count": 32,
   "metadata": {},
   "outputs": [
    {
     "data": {
      "text/html": [
       "<div>\n",
       "<style scoped>\n",
       "    .dataframe tbody tr th:only-of-type {\n",
       "        vertical-align: middle;\n",
       "    }\n",
       "\n",
       "    .dataframe tbody tr th {\n",
       "        vertical-align: top;\n",
       "    }\n",
       "\n",
       "    .dataframe thead th {\n",
       "        text-align: right;\n",
       "    }\n",
       "</style>\n",
       "<table border=\"1\" class=\"dataframe\">\n",
       "  <thead>\n",
       "    <tr style=\"text-align: right;\">\n",
       "      <th></th>\n",
       "      <th>x</th>\n",
       "      <th>y</th>\n",
       "      <th>name</th>\n",
       "      <th>Coordinates</th>\n",
       "    </tr>\n",
       "  </thead>\n",
       "  <tbody>\n",
       "    <tr>\n",
       "      <td>Piura</td>\n",
       "      <td>-79.846</td>\n",
       "      <td>-5.055</td>\n",
       "      <td>Piura</td>\n",
       "      <td>POINT (-79.846 -5.055)</td>\n",
       "    </tr>\n",
       "    <tr>\n",
       "      <td>Iquitos</td>\n",
       "      <td>-73.835</td>\n",
       "      <td>-3.850</td>\n",
       "      <td>Iquitos</td>\n",
       "      <td>POINT (-73.83499999999999 -3.85)</td>\n",
       "    </tr>\n",
       "    <tr>\n",
       "      <td>Tacna</td>\n",
       "      <td>-70.251</td>\n",
       "      <td>-18.013</td>\n",
       "      <td>Tacna</td>\n",
       "      <td>POINT (-70.251 -18.013)</td>\n",
       "    </tr>\n",
       "  </tbody>\n",
       "</table>\n",
       "</div>"
      ],
      "text/plain": [
       "              x       y     name                       Coordinates\n",
       "Piura   -79.846  -5.055    Piura            POINT (-79.846 -5.055)\n",
       "Iquitos -73.835  -3.850  Iquitos  POINT (-73.83499999999999 -3.85)\n",
       "Tacna   -70.251 -18.013    Tacna           POINT (-70.251 -18.013)"
      ]
     },
     "execution_count": 32,
     "metadata": {},
     "output_type": "execute_result"
    }
   ],
   "source": [
    "gdf"
   ]
  },
  {
   "cell_type": "code",
   "execution_count": 41,
   "metadata": {},
   "outputs": [
    {
     "name": "stdout",
     "output_type": "stream",
     "text": [
      "            Piura      Iquitos     Tacna\n",
      "1981   720.118467   801.619198  1.199516\n",
      "1982   249.648813  1016.608611  1.510498\n",
      "1983  1650.732903   945.408423  9.129217\n",
      "1984   855.488696   847.060330  2.441401\n",
      "1985   355.701682   798.717284  4.884730\n",
      "         Piura   Iquitos     Tacna\n",
      "1981 -0.213535 -0.876132 -0.805678\n",
      "1982 -1.513577  0.522674 -0.734212\n",
      "1983  2.358018  0.059417  1.016630\n",
      "1984  0.160532 -0.580474 -0.520283\n",
      "1985 -1.220522 -0.895013  0.041214\n"
     ]
    }
   ],
   "source": [
    "# Get indices of coordinates\n",
    "sample = '/Users/dlee/data/pisco/PISCOp_V2.1_beta/Daily_Products/unstable/PISCOpd/PISCOpd_V2.1.1981-01-01.tif'\n",
    "inds = []\n",
    "with rasterio.open(sample) as src:\n",
    "    for _, row in gdf.iterrows():\n",
    "        inds.append(np.ravel_multi_index(src.index(row.x, row.y),\\\n",
    "                                         [nlat,nlon], order='F'))\n",
    "points = pd.DataFrame(prcp[:,inds], index=tim, columns=gdf.index)\n",
    "\n",
    "# Calculate JFM total precipitation\n",
    "points = points[tim.month.isin([1,2,3])]\n",
    "points = points.groupby([points.index.year]).sum()\n",
    "# Calculate anomalies\n",
    "print(points.head())\n",
    "from scipy import stats\n",
    "points = pd.DataFrame(stats.zscore(points), index=points.index, columns=points.columns)\n",
    "print(points.head())"
   ]
  },
  {
   "cell_type": "code",
   "execution_count": 49,
   "metadata": {},
   "outputs": [
    {
     "data": {
      "image/png": "[encoded data removed]",
      "text/plain": [
       "<Figure size 396x216 with 1 Axes>"
      ]
     },
     "metadata": {},
     "output_type": "display_data"
    }
   ],
   "source": [
    "import matplotlib.pyplot as plt\n",
    "import seaborn as sns\n",
    "fig = plt.figure()\n",
    "sns.set(rc={'figure.figsize':(5,3)})\n",
    "sns.set_style(\"whitegrid\")\n",
    "ax = points['Piura'].plot(color='Blue', linewidth=2.5)\n",
    "# ax = points['Iquitos'].plot(color='Red', linewidth=2.5)\n",
    "ax = points['Tacna'].plot(color='Red', linewidth=2.5)\n",
    "# plt.scatter([1983, 1998, 2017], points.loc[[1983, 1998, 2017]]['Piura'],\\\n",
    "#             s=18**2, c='red', marker='*')\n",
    "ax.set_ylabel('JFM Anomalies', fontsize=20)\n",
    "ax.set_ylim([-2,3])\n",
    "xticks = np.arange(1981,2019,3)\n",
    "ax.set_xticks(xticks)\n",
    "labels = [yr[2:] for yr in xticks.astype('str')]\n",
    "ax.set_xticklabels(labels)\n",
    "ax.tick_params(axis='both', which='major', labelsize=18)\n",
    "plt.tight_layout()\n",
    "fig.savefig('./figures/jfm_ts_tacna_iquitos.png')\n",
    "\n",
    "# # Iquitos\n",
    "# fig = plt.figure()\n",
    "# sns.set(rc={'figure.figsize':(7,4)})\n",
    "# sns.set_style(\"whitegrid\")\n",
    "# ax = points['Iquitos'].plot(color='b')\n",
    "# ax.set_ylabel('JFM Rainfall (mm)', fontsize=16)\n",
    "# ax.set_ylim([650,1350])\n",
    "# xticks = np.arange(1981, 2019,3)\n",
    "# ax.set_xticks(xticks)\n",
    "# labels = [yr[2:] for yr in xticks.astype('str')]\n",
    "# ax.set_xticklabels(labels)\n",
    "# ax.tick_params(axis='both', which='major', labelsize=14)\n",
    "# plt.tight_layout()\n",
    "# fig.savefig('jfm_iquitos.png')"
   ]
  },
  {
   "cell_type": "code",
   "execution_count": null,
   "metadata": {},
   "outputs": [],
   "source": []
  }
 ],
 "metadata": {
  "kernelspec": {
   "display_name": "Python 3",
   "language": "python",
   "name": "python3"
  },
  "language_info": {
   "codemirror_mode": {
    "name": "ipython",
    "version": 3
   },
   "file_extension": ".py",
   "mimetype": "text/x-python",
   "name": "python",
   "nbconvert_exporter": "python",
   "pygments_lexer": "ipython3",
   "version": "3.6.7"
  }
 },
 "nbformat": 4,
 "nbformat_minor": 2
}
