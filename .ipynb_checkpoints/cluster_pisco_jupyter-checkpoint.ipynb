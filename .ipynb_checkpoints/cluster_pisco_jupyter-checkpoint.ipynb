{
 "cells": [
  {
   "cell_type": "markdown",
   "metadata": {},
   "source": [
    "## This script investigates intensity of rainfall at selected clusters\n",
    "\n",
    "#### Donghoon Lee @ Oct-28-2019"
   ]
  },
  {
   "cell_type": "code",
   "execution_count": 1,
   "metadata": {},
   "outputs": [],
   "source": [
    "import os\n",
    "import sys\n",
    "import pandas as pd\n",
    "import numpy as np\n",
    "import geopandas as gpd\n",
    "import rasterio\n",
    "from shapely.geometry import Point"
   ]
  },
  {
   "cell_type": "code",
   "execution_count": 2,
   "metadata": {},
   "outputs": [
    {
     "data": {
      "text/html": [
       "<div>\n",
       "<style scoped>\n",
       "    .dataframe tbody tr th:only-of-type {\n",
       "        vertical-align: middle;\n",
       "    }\n",
       "\n",
       "    .dataframe tbody tr th {\n",
       "        vertical-align: top;\n",
       "    }\n",
       "\n",
       "    .dataframe thead th {\n",
       "        text-align: right;\n",
       "    }\n",
       "</style>\n",
       "<table border=\"1\" class=\"dataframe\">\n",
       "  <thead>\n",
       "    <tr style=\"text-align: right;\">\n",
       "      <th></th>\n",
       "      <th>id</th>\n",
       "      <th>region</th>\n",
       "      <th>district</th>\n",
       "      <th>y</th>\n",
       "      <th>x</th>\n",
       "    </tr>\n",
       "  </thead>\n",
       "  <tbody>\n",
       "    <tr>\n",
       "      <td>0</td>\n",
       "      <td>1001</td>\n",
       "      <td>Amazonas</td>\n",
       "      <td>Aramango</td>\n",
       "      <td>-5.412300</td>\n",
       "      <td>-78.439110</td>\n",
       "    </tr>\n",
       "    <tr>\n",
       "      <td>1</td>\n",
       "      <td>2001</td>\n",
       "      <td>Amazonas</td>\n",
       "      <td>Aramango</td>\n",
       "      <td>-5.353548</td>\n",
       "      <td>-78.436368</td>\n",
       "    </tr>\n",
       "    <tr>\n",
       "      <td>2</td>\n",
       "      <td>3001</td>\n",
       "      <td>Amazonas</td>\n",
       "      <td>Aramango</td>\n",
       "      <td>-5.319083</td>\n",
       "      <td>-78.434840</td>\n",
       "    </tr>\n",
       "    <tr>\n",
       "      <td>3</td>\n",
       "      <td>4001</td>\n",
       "      <td>Amazonas</td>\n",
       "      <td>Aramango</td>\n",
       "      <td>-5.462448</td>\n",
       "      <td>-78.451157</td>\n",
       "    </tr>\n",
       "    <tr>\n",
       "      <td>4</td>\n",
       "      <td>5001</td>\n",
       "      <td>Amazonas</td>\n",
       "      <td>Aramango</td>\n",
       "      <td>-5.459933</td>\n",
       "      <td>-78.459775</td>\n",
       "    </tr>\n",
       "  </tbody>\n",
       "</table>\n",
       "</div>"
      ],
      "text/plain": [
       "     id    region   district         y          x\n",
       "0  1001  Amazonas   Aramango -5.412300 -78.439110\n",
       "1  2001  Amazonas   Aramango -5.353548 -78.436368\n",
       "2  3001  Amazonas   Aramango -5.319083 -78.434840\n",
       "3  4001  Amazonas   Aramango -5.462448 -78.451157\n",
       "4  5001  Amazonas   Aramango -5.459933 -78.459775"
      ]
     },
     "execution_count": 2,
     "metadata": {},
     "output_type": "execute_result"
    }
   ],
   "source": [
    "filn_in = os.path.join('./data/Cluster_27-10-19.csv')\n",
    "df = pd.read_csv(filn_in, header=0).dropna()\n",
    "df = df.rename(columns={'distrito':'district',\n",
    "                       'latitud_a':'y',\n",
    "                       'longitud_a':'x'})\n",
    "df.head()"
   ]
  },
  {
   "cell_type": "code",
   "execution_count": 3,
   "metadata": {},
   "outputs": [
    {
     "name": "stdout",
     "output_type": "stream",
     "text": [
      "data/cluster.shp is saved.\n"
     ]
    }
   ],
   "source": [
    "# GeoDataFrame needs a shapely object\n",
    "df['Coordinates'] = list(zip(df.x, df.y))           # Coordinates\n",
    "df['Coordinates'] = df['Coordinates'].apply(Point)  # tuples to Shapely's Point\n",
    "crs = {'init': 'epsg:4326'}\n",
    "gdf = gpd.GeoDataFrame(df, crs=crs, geometry='Coordinates')\n",
    "\n",
    "# Write ESRI shapefile\n",
    "filn_out = os.path.join('data/cluster.shp')\n",
    "gdf.to_file(filn_out)\n",
    "print('%s is saved.' % filn_out)"
   ]
  },
  {
   "cell_type": "markdown",
   "metadata": {},
   "source": [
    "Information of shapefile we just generated (./data/cluster.shp)"
   ]
  },
  {
   "cell_type": "code",
   "execution_count": 99,
   "metadata": {},
   "outputs": [
    {
     "data": {
      "text/html": [
       "<div>\n",
       "<style scoped>\n",
       "    .dataframe tbody tr th:only-of-type {\n",
       "        vertical-align: middle;\n",
       "    }\n",
       "\n",
       "    .dataframe tbody tr th {\n",
       "        vertical-align: top;\n",
       "    }\n",
       "\n",
       "    .dataframe thead th {\n",
       "        text-align: right;\n",
       "    }\n",
       "</style>\n",
       "<table border=\"1\" class=\"dataframe\">\n",
       "  <thead>\n",
       "    <tr style=\"text-align: right;\">\n",
       "      <th></th>\n",
       "      <th>id</th>\n",
       "      <th>region</th>\n",
       "      <th>district</th>\n",
       "      <th>y</th>\n",
       "      <th>x</th>\n",
       "      <th>Coordinates</th>\n",
       "    </tr>\n",
       "  </thead>\n",
       "  <tbody>\n",
       "    <tr>\n",
       "      <td>0</td>\n",
       "      <td>1001</td>\n",
       "      <td>Amazonas</td>\n",
       "      <td>Aramango</td>\n",
       "      <td>-5.412300</td>\n",
       "      <td>-78.439110</td>\n",
       "      <td>POINT (-78.43911 -5.4123)</td>\n",
       "    </tr>\n",
       "    <tr>\n",
       "      <td>1</td>\n",
       "      <td>2001</td>\n",
       "      <td>Amazonas</td>\n",
       "      <td>Aramango</td>\n",
       "      <td>-5.353548</td>\n",
       "      <td>-78.436368</td>\n",
       "      <td>POINT (-78.43636832999998 -5.353548332)</td>\n",
       "    </tr>\n",
       "    <tr>\n",
       "      <td>2</td>\n",
       "      <td>3001</td>\n",
       "      <td>Amazonas</td>\n",
       "      <td>Aramango</td>\n",
       "      <td>-5.319083</td>\n",
       "      <td>-78.434840</td>\n",
       "      <td>POINT (-78.43483999999998 -5.319083333)</td>\n",
       "    </tr>\n",
       "    <tr>\n",
       "      <td>3</td>\n",
       "      <td>4001</td>\n",
       "      <td>Amazonas</td>\n",
       "      <td>Aramango</td>\n",
       "      <td>-5.462448</td>\n",
       "      <td>-78.451157</td>\n",
       "      <td>POINT (-78.45115666 -5.462448332)</td>\n",
       "    </tr>\n",
       "    <tr>\n",
       "      <td>4</td>\n",
       "      <td>5001</td>\n",
       "      <td>Amazonas</td>\n",
       "      <td>Aramango</td>\n",
       "      <td>-5.459933</td>\n",
       "      <td>-78.459775</td>\n",
       "      <td>POINT (-78.45977499 -5.459933332)</td>\n",
       "    </tr>\n",
       "  </tbody>\n",
       "</table>\n",
       "</div>"
      ],
      "text/plain": [
       "     id    region   district         y          x  \\\n",
       "0  1001  Amazonas   Aramango -5.412300 -78.439110   \n",
       "1  2001  Amazonas   Aramango -5.353548 -78.436368   \n",
       "2  3001  Amazonas   Aramango -5.319083 -78.434840   \n",
       "3  4001  Amazonas   Aramango -5.462448 -78.451157   \n",
       "4  5001  Amazonas   Aramango -5.459933 -78.459775   \n",
       "\n",
       "                               Coordinates  \n",
       "0                POINT (-78.43911 -5.4123)  \n",
       "1  POINT (-78.43636832999998 -5.353548332)  \n",
       "2  POINT (-78.43483999999998 -5.319083333)  \n",
       "3        POINT (-78.45115666 -5.462448332)  \n",
       "4        POINT (-78.45977499 -5.459933332)  "
      ]
     },
     "execution_count": 99,
     "metadata": {},
     "output_type": "execute_result"
    }
   ],
   "source": [
    "gdf.head()"
   ]
  },
  {
   "cell_type": "markdown",
   "metadata": {},
   "source": [
    "Load PISCO data and Select time-series of grids that clusters are located"
   ]
  },
  {
   "cell_type": "code",
   "execution_count": 105,
   "metadata": {},
   "outputs": [],
   "source": [
    "# Read transform from sample GeoTiff file\n",
    "import rasterio\n",
    "sample = '/Users/dlee/data/pisco/PISCOp_V2.1_beta/Daily_Products/unstable/PISCOpd/PISCOpd_V2.1.1981-01-01.tif'\n",
    "# Generate index of coordinates\n",
    "inds = []\n",
    "with rasterio.open(sample) as src:\n",
    "    for _, row in gdf.iterrows():\n",
    "        inds.append(np.ravel_multi_index(src.index(row.x, row.y),\\\n",
    "                                         [nlat,nlon], order='C'))\n",
    "# Load Daily Unstable PISCO v2.1beta (1981-1-1 to 2018-07-31)\n",
    "dir_out = '/Users/dlee/data/pisco/PISCOp_V2.1_beta/Daily_Products/unstable/'\n",
    "file_out = dir_out+'piscopd_180731_dlee.npz'\n",
    "temp = np.load(file_out)\n",
    "prcp, lat, lon = temp['prcp'], temp['lat'], temp['lon']\n",
    "nlat = len(lat)\n",
    "nlon = len(lon)\n",
    "tim = pd.to_datetime(temp['tim']); tim.freq = 'D'\n",
    "# Reshape the data to 2D ndarray\n",
    "prcp = np.transpose(prcp, [0,2,1])\n",
    "prcp = np.reshape(prcp, [tim.shape[0], nlat*nlon])\n",
    "# Select grids of clusters\n",
    "prcp_pisco = prcp[:,inds]    # (Validated)"
   ]
  },
  {
   "cell_type": "code",
   "execution_count": 116,
   "metadata": {},
   "outputs": [
    {
     "name": "stdout",
     "output_type": "stream",
     "text": [
      "13726\n",
      "3572\n",
      "(13726, 3572)\n"
     ]
    }
   ],
   "source": [
    "# Convert to dataframe\n",
    "df = pd.DataFrame(prcp_pisco, index=tim, columns=gdf.id)\n",
    "\n",
    "print(len(tim))\n",
    "print(len(gdf))\n",
    "print(df.shape)"
   ]
  },
  {
   "cell_type": "code",
   "execution_count": 125,
   "metadata": {},
   "outputs": [
    {
     "data": {
      "text/plain": [
       "array([<matplotlib.axes._subplots.AxesSubplot object at 0x1d0975cc0>,\n",
       "       <matplotlib.axes._subplots.AxesSubplot object at 0x1d0ae20f0>],\n",
       "      dtype=object)"
      ]
     },
     "execution_count": 125,
     "metadata": {},
     "output_type": "execute_result"
    },
    {
     "data": {
      "image/png": "[encoded data removed]",
      "text/plain": [
       "<Figure size 432x288 with 2 Axes>"
      ]
     },
     "metadata": {
      "needs_background": "light"
     },
     "output_type": "display_data"
    }
   ],
   "source": [
    "df[[1001,10001]].resample(\"1m\").mean().plot(subplots=True)"
   ]
  },
  {
   "cell_type": "markdown",
   "metadata": {},
   "source": [
    "### Tasks\n",
    "1. Determine the average rainfall only for the months of February and March from 1980 to 2010 and excluding from the analysis the years 1982, 1983, 1997 and 1998 (years of the occurrence of Niño phenomena)\n",
    "\n",
    "> Determine the average of the sum of rainfall only for the months of February and March from 1980 to 2010 and excluding from the analysis the years 1982, 1983, 1997 and 1998 (years of the occurrence of Niño phenomena)\n",
    "\n",
    "> Determine the average rainfall only for the months of February and March of the year 2017 (Coastal Niño)\n",
    "\n",
    "> Determine the total sum of rainfall only for the months of February and March of the year 2017 (Coastal Niño)\n",
    "\n",
    "> The previous analyzes can be done with the Pisco raster files for all of Peru (that information would serve us for future analysis) and then extract the information for each of my cluster (3584), or you can also extract it only for my cluster. (attached file of my cluster)"
   ]
  },
  {
   "cell_type": "code",
   "execution_count": null,
   "metadata": {},
   "outputs": [],
   "source": []
  }
 ],
 "metadata": {
  "kernelspec": {
   "display_name": "Python 3",
   "language": "python",
   "name": "python3"
  },
  "language_info": {
   "codemirror_mode": {
    "name": "ipython",
    "version": 3
   },
   "file_extension": ".py",
   "mimetype": "text/x-python",
   "name": "python",
   "nbconvert_exporter": "python",
   "pygments_lexer": "ipython3",
   "version": "3.6.7"
  }
 },
 "nbformat": 4,
 "nbformat_minor": 2
}
