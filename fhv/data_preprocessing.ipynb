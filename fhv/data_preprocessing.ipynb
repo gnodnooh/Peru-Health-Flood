{
 "cells": [
  {
   "cell_type": "markdown",
   "metadata": {},
   "source": [
    "## Pre-processing data"
   ]
  },
  {
   "cell_type": "code",
   "execution_count": 1,
   "metadata": {},
   "outputs": [],
   "source": [
    "import os\n",
    "import sys\n",
    "import numpy as np\n",
    "import pandas as pd\n",
    "import geopandas as gpd\n",
    "import rasterio\n",
    "from shapely.geometry import Point\n",
    "import matplotlib.pyplot as plt\n",
    "import fhv"
   ]
  },
  {
   "cell_type": "markdown",
   "metadata": {},
   "source": [
    "### Prepare Rasters\n",
    "Here, we clip global-scale rasters to Peruvian national boundary.\n",
    "1. DEM from HydroSHEDS\n",
    "2. 10-year flood inundation from GLOFRIS.\n",
    "3. Population from LandScan\n",
    "4. LandCover data from [European Space Agency (ESA)'s Climate Change Initiative (CCI)](https://cds.climate.copernicus.eu/cdsapp#!/dataset/satellite-land-cover?tab=overview)\n",
    "5. DistID (District ID of the district shapefile is converted to Raster)"
   ]
  },
  {
   "cell_type": "code",
   "execution_count": 18,
   "metadata": {},
   "outputs": [
    {
     "name": "stdout",
     "output_type": "stream",
     "text": [
      "./data/aligned/raw/dem30s_peru.tif is saved.\n",
      "./data/aligned/raw/dem30s_peru_projected.tif is saved.\n",
      "./data/aligned/raw/inundation_00010.tif is saved.\n",
      "./data/aligned/raw/popu_admin_landscan17.tif is saved.\n",
      "./data/aligned/raw/distid_30s.tif is saved\n"
     ]
    }
   ],
   "source": [
    "# Peruvian national boundary\n",
    "shp_fn = './data/per_admbnda_adm0_2018.shp'\n",
    "\n",
    "# 1. Hydroshed DEM\n",
    "# - Crop raster with Peruvian national boundary\n",
    "rst_fn = '/Users/dlee/data/gis/hydrosheds/dem_void/sa_dem_30s/sa_dem_30s'\n",
    "out_fn = './data/aligned/raw/dem30s_peru.tif'\n",
    "fhv.CropRasterShape(rst_fn, shp_fn, out_fn, all_touched=False)\n",
    "# - Reproject to UTM zone 17S (EPSG:32717)\n",
    "outpath = './data/aligned/raw/dem30s_peru_projected.tif'\n",
    "fhv.ReprojectRaster(out_fn, outpath, new_crs='EPSG:32717')\n",
    "\n",
    "# 2. GLOFRIS 10-year inundation\n",
    "rst_fn = '/Users/dlee/data/inundation/glofris/inun_dynRout_RP_00010.tif'\n",
    "out_fn = './data/aligned/raw/inundation_00010.tif'\n",
    "fhv.CropRasterShape(rst_fn, shp_fn, out_fn, all_touched=False)\n",
    "\n",
    "# 3. LandScan population\n",
    "rst_fn = '/Users/dlee/data/population/landscan/LandScan Global 2017/lspop2017'\n",
    "out_fn = './data/aligned/raw/popu_admin_landscan17.tif'\n",
    "fhv.CropRasterShape(rst_fn, shp_fn, out_fn, all_touched=False)\n",
    "# # Total population of Peru in 2017 was 31,237,385 (INEI) or 32,165,485 (UNPD)\n",
    "# with rasterio.open(out_fn) as src: \n",
    "#     popu = src.read().squeeze()\n",
    "#     popu17 = np.sum(popu[popu != popu[0,0]])    # 30,931,229\n",
    "\n",
    "# 4. LandCover\n",
    "# Global LandCover layer is manually clipped using QGIS to the Peruvian national boundary\n",
    "source = '/Users/dlee/data/landcover/C3S-LC-L4-LCCS-Map-300m-P1Y-2018-v2.1.1.nc'\n",
    "out_fn = './data/lcss_aligned.tif'\n",
    "\n",
    "# 5. DistID (converting administrative boundary polygon to raster)\n",
    "shp_fn = './data/DISTRITOS.shp'\n",
    "rst_fn = './data/aligned/raw/dem30s_peru.tif'\n",
    "out_fn = './data/aligned/raw/distid_30s.tif'\n",
    "# Open the shapefile with GeoPandas\n",
    "dist = gpd.read_file(shp_fn)\n",
    "# Open the raster file as a template for feature burning using rasterio\n",
    "rst = rasterio.open(rst_fn)\n",
    "# Copy and update the metadata frm the input raster for the output\n",
    "meta = rst.meta.copy()\n",
    "meta.update(dtype=rasterio.int32)\n",
    "# Before burning it, we need to \n",
    "dist = dist.assign(IDDIST_int = dist.IDDIST.values.astype(rasterio.int32))\n",
    "# Burn the features into the raster and write it out\n",
    "with rasterio.open(out_fn, 'w+', **meta) as out:\n",
    "    out_arr = out.read(1)\n",
    "    shapes = ((geom, value) for geom, value in zip(dist.geometry, dist.IDDIST_int))\n",
    "    burned = rasterio.features.rasterize(shapes=shapes, fill=0, out=out_arr, \n",
    "                                         transform=out.transform,\n",
    "                                         all_touched=False)\n",
    "    out.write_band(1, burned)\n",
    "    print('%s is saved' % out_fn)"
   ]
  },
  {
   "cell_type": "markdown",
   "metadata": {},
   "source": [
    "### Alignment of Rasters\n",
    "Then, we align rasters in order to match their extent and resolution. This is done manually by QGIS > Raster > Align Rasters. The raster data includes:\n",
    "1. DEM: './data/alinged/raw/dem30_peru_Projected.tif' (reference raster; UTM zone 17S (EPSG:32717))\n",
    "2. Inundation: './data/aligned/raw/inundation_00010.tif'\n",
    "3. population: './data/aligned/raw/popu_admin_landscan17.tif'\n",
    "4. LandCover: './data/aligned/raw/landcover_peru.tif'\n",
    "5. DistID: './data/aligned/raw/distid_30s.tif'"
   ]
  },
  {
   "cell_type": "markdown",
   "metadata": {},
   "source": [
    "### Health facilities\n",
    "We obtained the information of health facilities (location, name, level, etc.) from [GeoMINSA](http://www.geominsa.minsa.gob.pe:8080/geominsa/) as Excel format. Here, we read the data and create a shapefile of health facilities."
   ]
  },
  {
   "cell_type": "code",
   "execution_count": 2,
   "metadata": {},
   "outputs": [
    {
     "name": "stdout",
     "output_type": "stream",
     "text": [
      "data/health_facility_MINSA.shp is saved.\n"
     ]
    }
   ],
   "source": [
    "# Load health facilities obtained from GeoMINSA\n",
    "filn_in = os.path.join('./data/health_facility_MINSA.xls')\n",
    "df = pd.read_excel(filn_in, header=0).dropna()\n",
    "df = df.rename(columns={'Distrito':'district',\n",
    "                       'Latitud':'x',\n",
    "                       'Longitud':'y',\n",
    "                       'Categoría':'category'})\n",
    "df.head()\n",
    "# GeoDataFrame needs a shapely object\n",
    "df['Coordinates'] = list(zip(df.x, df.y))           # Coordinates\n",
    "df['Coordinates'] = df['Coordinates'].apply(Point)  # tuples to Shapely's Point\n",
    "crs = {'init': 'epsg:4326'}\n",
    "gdf = gpd.GeoDataFrame(df, crs=crs, geometry='Coordinates')\n",
    "# Select specific types of facilities\n",
    "gdf = gdf[gdf.category.isin(['I-4','II-1','II-2','II-E','III-1','III-2','III-E'])]\n",
    "# Write ESRI shapefile\n",
    "if True:\n",
    "    filn_out = os.path.join('data/health_facility_MINSA.shp')\n",
    "    gdf.to_file(filn_out, encoding='utf-8')\n",
    "    print('%s is saved.' % filn_out)"
   ]
  },
  {
   "cell_type": "markdown",
   "metadata": {},
   "source": []
  },
  {
   "cell_type": "code",
   "execution_count": 9,
   "metadata": {},
   "outputs": [
    {
     "name": "stdout",
     "output_type": "stream",
     "text": [
      "./data/lcss_class_peru_projected.tif is saved.\n"
     ]
    }
   ],
   "source": [
    "\n",
    "\n",
    "\n",
    "\n"
   ]
  },
  {
   "cell_type": "code",
   "execution_count": null,
   "metadata": {},
   "outputs": [],
   "source": []
  },
  {
   "cell_type": "markdown",
   "metadata": {},
   "source": [
    "### TODO\n",
    "- polygonize inundation (>1.0m)\n",
    "- calculate accessibility2\n",
    "- function and script organize"
   ]
  },
  {
   "cell_type": "code",
   "execution_count": 8,
   "metadata": {},
   "outputs": [
    {
     "name": "stdout",
     "output_type": "stream",
     "text": [
      "./data/dem_30s_peru_projected.tif is saved.\n"
     ]
    }
   ],
   "source": []
  },
  {
   "cell_type": "markdown",
   "metadata": {},
   "source": [
    "### Flood Inundation Barriers\n",
    "We polygonize the cells with flood depth over 1.0m.\n",
    "\n",
    "\n"
   ]
  },
  {
   "cell_type": "code",
   "execution_count": 31,
   "metadata": {},
   "outputs": [
    {
     "name": "stdout",
     "output_type": "stream",
     "text": [
      "./data/aligned/polygonized/inundation_peru_1m.tif is saved.\n"
     ]
    },
    {
     "data": {
      "text/plain": [
       "array([-32768,     10,     11,     12,     13,     14,     15,     16,\n",
       "           17,     18,     19,     20,     21,     22,     23,     24,\n",
       "           25,     26,     27,     28,     29,     30,     31,     32,\n",
       "           33,     34,     35,     36,     37,     38,     39,     40,\n",
       "           41,     42,     43,     44,     45,     46,     47,     48,\n",
       "           49,     50,     51,     52,     53,     54,     55,     56,\n",
       "           57,     58,     59,     60,     61,     62,     63,     64,\n",
       "           65,     66,     67,     68,     69,     70,     71,     72,\n",
       "           73,     74,     75,     76,     77,     78,     79,     80,\n",
       "           81,     82,     83,     84,     85,     86,     87,     88,\n",
       "           89,     90,     91,     92,     93,     94,     95,     96,\n",
       "           97,     98,     99,    100,    101,    102,    103,    104,\n",
       "          105,    106,    107,    108,    111,    113,    123,    127,\n",
       "          129,    132,    137,    138,    147,    152,    156,    162,\n",
       "          163,    176,    177,    298], dtype=int16)"
      ]
     },
     "execution_count": 31,
     "metadata": {},
     "output_type": "execute_result"
    }
   ],
   "source": [
    "# Read/Modify/Save the inundation raster\n",
    "in_ras = './data/aligned/inundation_peru.tif'\n",
    "out_ras = './data/aligned/polygonized/inundation_peru_1m.tif'\n",
    "with rasterio.open(in_ras, 'r') as src:\n",
    "    meta = src.meta.copy()\n",
    "    # Ignore cells with flood depth under 1.0 meter.\n",
    "    inun = src.read(1)\n",
    "    inun[inun < 10] = -32768\n",
    "    with rasterio.open(out_ras, 'w', **meta) as dest:\n",
    "        dest.write_band(1, inun)\n",
    "        print('%s is saved.' % out_ras)\n",
    "\n",
    "# inun = rasterio.open() \n",
    "# inun = inun.read(1)\n",
    "np.unique(inun)"
   ]
  },
  {
   "cell_type": "code",
   "execution_count": 27,
   "metadata": {},
   "outputs": [
    {
     "data": {
      "text/plain": [
       "(2238, 1537)"
      ]
     },
     "execution_count": 27,
     "metadata": {},
     "output_type": "execute_result"
    }
   ],
   "source": [
    "inun.shape"
   ]
  },
  {
   "cell_type": "code",
   "execution_count": null,
   "metadata": {},
   "outputs": [],
   "source": []
  },
  {
   "cell_type": "markdown",
   "metadata": {},
   "source": [
    "### Roads\n",
    "Roads data is obtained from [HOTOSM (OpenStreetMap) from Humnitarian Data Exchange](https://data.humdata.org/dataset/hotosm_per_roads)."
   ]
  },
  {
   "cell_type": "code",
   "execution_count": 49,
   "metadata": {},
   "outputs": [
    {
     "name": "stdout",
     "output_type": "stream",
     "text": [
      "./data/road_osm.shp is saved.\n"
     ]
    }
   ],
   "source": [
    "filn_in = '/Users/dlee/data/per/roads/hotosm_per_roads_lines_shp/hotosm_per_roads_lines.shp'\n",
    "road = gpd.read_file(filn_in)\n",
    "# Select Primary, Secondary, and Tertiary roads\n",
    "road = road.loc[road['highway'].isin(['primary', 'secondary', 'tertiary'])]\n",
    "# Type and Class\n",
    "road = road.drop(['osm_id','name','surface','smoothness','width','lanes','oneway','bridge','layer','z_index'], axis=1)\n",
    "road_class = {1:'primary',2:'secondary',3:'tertiary'}\n",
    "road['class'] = 1\n",
    "road.loc[road.highway == 'secondary', 'class'] = 2\n",
    "road.loc[road.highway == 'tertiary', 'class'] = 3\n",
    "# Save\n",
    "if True:\n",
    "    filn_out = './data/road_osm.shp'\n",
    "    road.to_file(filn_out)\n",
    "    print('%s is saved.' % filn_out)"
   ]
  },
  {
   "cell_type": "markdown",
   "metadata": {},
   "source": [
    "### Education facilities\n",
    "Education facilities is obtained from [Ministry of Education > ESCALE](http://escale.minedu.gob.pe/mapas).\n",
    "https://wenr.wes.org/2015/04/education-in-peru"
   ]
  },
  {
   "cell_type": "code",
   "execution_count": null,
   "metadata": {},
   "outputs": [],
   "source": []
  },
  {
   "cell_type": "markdown",
   "metadata": {},
   "source": [
    "### Rivers and Wetlands\n",
    "The hydrography data of Peru is obtained from [Humanitarian Data Exchange (HDX) (Instituto Geográfico Nacional - IGN)](https://data.humdata.org/dataset/hidrografia-de-peru).\n"
   ]
  },
  {
   "cell_type": "code",
   "execution_count": null,
   "metadata": {},
   "outputs": [],
   "source": []
  },
  {
   "cell_type": "code",
   "execution_count": null,
   "metadata": {},
   "outputs": [],
   "source": []
  },
  {
   "cell_type": "code",
   "execution_count": null,
   "metadata": {},
   "outputs": [],
   "source": [
    "# - Automatic code for LandCover\n",
    "# from netCDF4 import Dataset\n",
    "# import rioxarray\n",
    "# import xarray\n",
    "# filn = '/Users/dlee/data/landcover/C3S-LC-L4-LCCS-Map-300m-P1Y-2018-v2.1.1.nc'\n",
    "# nc_fid = Dataset(filn, 'r')\n",
    "# # Use RioXarray\n",
    "# xds = xarray.open_dataset(filn)\n",
    "# xds.rio.set_crs(\"epsg:4326\")\n",
    "# xds[\"lccs_class\"].rio.to_raster('.\\test.tif')"
   ]
  }
 ],
 "metadata": {
  "kernelspec": {
   "display_name": "Python 3",
   "language": "python",
   "name": "python3"
  },
  "language_info": {
   "codemirror_mode": {
    "name": "ipython",
    "version": 3
   },
   "file_extension": ".py",
   "mimetype": "text/x-python",
   "name": "python",
   "nbconvert_exporter": "python",
   "pygments_lexer": "ipython3",
   "version": "3.6.7"
  }
 },
 "nbformat": 4,
 "nbformat_minor": 2
}
