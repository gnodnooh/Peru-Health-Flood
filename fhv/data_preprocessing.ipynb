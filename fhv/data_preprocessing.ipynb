{
 "cells": [
  {
   "cell_type": "markdown",
   "metadata": {},
   "source": [
    "## Data pre-processing"
   ]
  },
  {
   "cell_type": "code",
   "execution_count": 1,
   "metadata": {},
   "outputs": [],
   "source": [
    "import os\n",
    "import sys\n",
    "import pandas as pd\n",
    "import numpy as np\n",
    "import geopandas as gpd\n",
    "import rasterio\n",
    "from shapely.geometry import Point"
   ]
  },
  {
   "cell_type": "markdown",
   "metadata": {},
   "source": [
    "### Health facilities\n",
    "We obtained the information of health facilities (location, name, level, etc.) from [GeoMINSA](http://www.geominsa.minsa.gob.pe:8080/geominsa/) as Excel format. Here, we read the data and create a shapefile of health facilities."
   ]
  },
  {
   "cell_type": "code",
   "execution_count": 2,
   "metadata": {},
   "outputs": [],
   "source": [
    "# Load health facilities obtained from GeoMINSA\n",
    "filn_in = os.path.join('./data/health_facility_MINSA.xls')\n",
    "df = pd.read_excel(filn_in, header=0).dropna()\n",
    "df = df.rename(columns={'Distrito':'district',\n",
    "                       'Latitud':'x',\n",
    "                       'Longitud':'y'})\n",
    "df.head()\n",
    "# GeoDataFrame needs a shapely object\n",
    "df['Coordinates'] = list(zip(df.x, df.y))           # Coordinates\n",
    "df['Coordinates'] = df['Coordinates'].apply(Point)  # tuples to Shapely's Point\n",
    "crs = {'init': 'epsg:4326'}\n",
    "gdf = gpd.GeoDataFrame(df, crs=crs, geometry='Coordinates')\n",
    "\n",
    "# Exclude facilities with wrong geolocations\n",
    "\n",
    "\n",
    "# Write ESRI shapefile\n",
    "if False:\n",
    "    filn_out = os.path.join('data/health_facility_MINSA.shp')\n",
    "    gdf.to_file(filn_out, encoding='utf-8')\n",
    "    print('%s is saved.' % filn_out)"
   ]
  },
  {
   "cell_type": "markdown",
   "metadata": {},
   "source": [
    "### DEM"
   ]
  },
  {
   "cell_type": "code",
   "execution_count": null,
   "metadata": {},
   "outputs": [],
   "source": []
  },
  {
   "cell_type": "markdown",
   "metadata": {},
   "source": [
    "### Land Cover\n",
    "Here we clip the [land cover from European Space Agency (ESA)'s Climate Change Initiative (CCI)](https://cds.climate.copernicus.eu/cdsapp#!/dataset/satellite-land-cover?tab=overview) with the Peru national boundary. "
   ]
  },
  {
   "cell_type": "code",
   "execution_count": 26,
   "metadata": {},
   "outputs": [],
   "source": [
    "# from netCDF4 import Dataset\n",
    "# import rioxarray\n",
    "# import xarray\n",
    "# filn = '/Users/dlee/data/landcover/C3S-LC-L4-LCCS-Map-300m-P1Y-2018-v2.1.1.nc'\n",
    "# nc_fid = Dataset(filn, 'r')\n",
    "# # Use RioXarray\n",
    "# xds = xarray.open_dataset(filn)\n",
    "# xds.rio.set_crs(\"epsg:4326\")\n",
    "# xds[\"lccs_class\"].rio.to_raster('.\\test.tif')\n",
    "\n",
    "# Global LandCover layer is manually clipped using QGIS to the Peruvian national boundary\n",
    "import rasterio\n",
    "filn_out = './data/lcss_class_peru.tif'\n",
    "data = rasterio.open(filn_out)\n",
    "\n",
    "# Resampling of land cover (Upscaling from 300m to 1km) to be aligned with the DEM data\n",
    "# This is done manually by QGIS > Raster > Align Rasters\n",
    "filn_out = './data/lcss_class_peru_aligned.tif'\n",
    "data = rasterio.open(filn_out)"
   ]
  },
  {
   "cell_type": "markdown",
   "metadata": {},
   "source": [
    "### Roads"
   ]
  },
  {
   "cell_type": "code",
   "execution_count": null,
   "metadata": {},
   "outputs": [],
   "source": [
    "filn_in = ''"
   ]
  },
  {
   "cell_type": "markdown",
   "metadata": {},
   "source": [
    "### Rivers and Waterways\n"
   ]
  },
  {
   "cell_type": "code",
   "execution_count": null,
   "metadata": {},
   "outputs": [],
   "source": []
  }
 ],
 "metadata": {
  "kernelspec": {
   "display_name": "Python 3",
   "language": "python",
   "name": "python3"
  },
  "language_info": {
   "codemirror_mode": {
    "name": "ipython",
    "version": 3
   },
   "file_extension": ".py",
   "mimetype": "text/x-python",
   "name": "python",
   "nbconvert_exporter": "python",
   "pygments_lexer": "ipython3",
   "version": "3.6.7"
  }
 },
 "nbformat": 4,
 "nbformat_minor": 2
}
