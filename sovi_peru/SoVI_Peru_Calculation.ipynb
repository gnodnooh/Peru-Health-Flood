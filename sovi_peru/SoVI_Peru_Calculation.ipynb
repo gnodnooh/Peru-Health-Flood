{
 "cells": [
  {
   "cell_type": "markdown",
   "metadata": {},
   "source": [
    "### SoVI_Peru_Caculation\n",
    "#### This script calculates SoVI for Peru\n",
    "\n",
    "\n",
    "Donghoon Lee, Nov-3-2019"
   ]
  },
  {
   "cell_type": "code",
   "execution_count": 1,
   "metadata": {},
   "outputs": [],
   "source": [
    "import os\n",
    "import numpy as np\n",
    "import pandas as pd\n",
    "import geopandas as gpd\n",
    "import gdal\n",
    "import rasterio\n",
    "import fhvuln as fhv\n",
    "from spss_pca_dl import SPSS_PCA"
   ]
  },
  {
   "cell_type": "markdown",
   "metadata": {},
   "source": [
    "### Load datasets"
   ]
  },
  {
   "cell_type": "code",
   "execution_count": 8,
   "metadata": {},
   "outputs": [
    {
     "data": {
      "text/html": [
       "<div>\n",
       "<style scoped>\n",
       "    .dataframe tbody tr th:only-of-type {\n",
       "        vertical-align: middle;\n",
       "    }\n",
       "\n",
       "    .dataframe tbody tr th {\n",
       "        vertical-align: top;\n",
       "    }\n",
       "\n",
       "    .dataframe thead th {\n",
       "        text-align: right;\n",
       "    }\n",
       "</style>\n",
       "<table border=\"1\" class=\"dataframe\">\n",
       "  <thead>\n",
       "    <tr style=\"text-align: right;\">\n",
       "      <th></th>\n",
       "      <th>Name</th>\n",
       "      <th>Sign</th>\n",
       "      <th>Type</th>\n",
       "      <th>Description</th>\n",
       "    </tr>\n",
       "  </thead>\n",
       "  <tbody>\n",
       "    <tr>\n",
       "      <td>0</td>\n",
       "      <td>PAGE5</td>\n",
       "      <td>pos</td>\n",
       "      <td>person</td>\n",
       "      <td>Children under 5 years (%)</td>\n",
       "    </tr>\n",
       "    <tr>\n",
       "      <td>1</td>\n",
       "      <td>PAGE65</td>\n",
       "      <td>pos</td>\n",
       "      <td>person</td>\n",
       "      <td>Elder population (65+ years) (%)</td>\n",
       "    </tr>\n",
       "    <tr>\n",
       "      <td>2</td>\n",
       "      <td>PFEMALE</td>\n",
       "      <td>pos</td>\n",
       "      <td>person</td>\n",
       "      <td>Percent females</td>\n",
       "    </tr>\n",
       "    <tr>\n",
       "      <td>3</td>\n",
       "      <td>PDISABL</td>\n",
       "      <td>pos</td>\n",
       "      <td>person</td>\n",
       "      <td>Percent population with disability</td>\n",
       "    </tr>\n",
       "    <tr>\n",
       "      <td>4</td>\n",
       "      <td>PMEDINS</td>\n",
       "      <td>neg</td>\n",
       "      <td>person</td>\n",
       "      <td>Percent population with health insurance</td>\n",
       "    </tr>\n",
       "    <tr>\n",
       "      <td>5</td>\n",
       "      <td>PNOSWALL</td>\n",
       "      <td>pos</td>\n",
       "      <td>house</td>\n",
       "      <td>Percent households without strong walls</td>\n",
       "    </tr>\n",
       "    <tr>\n",
       "      <td>6</td>\n",
       "      <td>PNOWATER</td>\n",
       "      <td>pos</td>\n",
       "      <td>house</td>\n",
       "      <td>Percent households without public water supply</td>\n",
       "    </tr>\n",
       "    <tr>\n",
       "      <td>7</td>\n",
       "      <td>PNOELEC</td>\n",
       "      <td>pos</td>\n",
       "      <td>house</td>\n",
       "      <td>Percent households without electricity</td>\n",
       "    </tr>\n",
       "    <tr>\n",
       "      <td>8</td>\n",
       "      <td>PNOSEWAGE</td>\n",
       "      <td>pos</td>\n",
       "      <td>house</td>\n",
       "      <td>Percent households without sewage infrastructure</td>\n",
       "    </tr>\n",
       "    <tr>\n",
       "      <td>9</td>\n",
       "      <td>PLITERACY</td>\n",
       "      <td>pos</td>\n",
       "      <td>person</td>\n",
       "      <td>Percent population who cannot read and write</td>\n",
       "    </tr>\n",
       "    <tr>\n",
       "      <td>10</td>\n",
       "      <td>PNOPRIEDU</td>\n",
       "      <td>pos</td>\n",
       "      <td>person</td>\n",
       "      <td>Percent population who dont complete primary e...</td>\n",
       "    </tr>\n",
       "    <tr>\n",
       "      <td>11</td>\n",
       "      <td>PNOCOLLEGE</td>\n",
       "      <td>pos</td>\n",
       "      <td>person</td>\n",
       "      <td>Percent population who dont complete college d...</td>\n",
       "    </tr>\n",
       "    <tr>\n",
       "      <td>12</td>\n",
       "      <td>PRENT</td>\n",
       "      <td>pos</td>\n",
       "      <td>house</td>\n",
       "      <td>Percentage of rented houses</td>\n",
       "    </tr>\n",
       "    <tr>\n",
       "      <td>13</td>\n",
       "      <td>ANUMBFAMILY</td>\n",
       "      <td>pos</td>\n",
       "      <td>house</td>\n",
       "      <td>Averaged Numer of people in family</td>\n",
       "    </tr>\n",
       "    <tr>\n",
       "      <td>14</td>\n",
       "      <td>PPHONE</td>\n",
       "      <td>neg</td>\n",
       "      <td>house</td>\n",
       "      <td>Percent households with cell phone or landline</td>\n",
       "    </tr>\n",
       "    <tr>\n",
       "      <td>15</td>\n",
       "      <td>PAUTOMOBILE</td>\n",
       "      <td>neg</td>\n",
       "      <td>house</td>\n",
       "      <td>Percent households with automobiles</td>\n",
       "    </tr>\n",
       "  </tbody>\n",
       "</table>\n",
       "</div>"
      ],
      "text/plain": [
       "           Name Sign    Type  \\\n",
       "0         PAGE5  pos  person   \n",
       "1        PAGE65  pos  person   \n",
       "2       PFEMALE  pos  person   \n",
       "3       PDISABL  pos  person   \n",
       "4       PMEDINS  neg  person   \n",
       "5      PNOSWALL  pos   house   \n",
       "6      PNOWATER  pos   house   \n",
       "7       PNOELEC  pos   house   \n",
       "8     PNOSEWAGE  pos   house   \n",
       "9     PLITERACY  pos  person   \n",
       "10    PNOPRIEDU  pos  person   \n",
       "11   PNOCOLLEGE  pos  person   \n",
       "12        PRENT  pos   house   \n",
       "13  ANUMBFAMILY  pos   house   \n",
       "14       PPHONE  neg   house   \n",
       "15  PAUTOMOBILE  neg   house   \n",
       "\n",
       "                                          Description  \n",
       "0                          Children under 5 years (%)  \n",
       "1                    Elder population (65+ years) (%)  \n",
       "2                                     Percent females  \n",
       "3                  Percent population with disability  \n",
       "4            Percent population with health insurance  \n",
       "5             Percent households without strong walls  \n",
       "6      Percent households without public water supply  \n",
       "7              Percent households without electricity  \n",
       "8    Percent households without sewage infrastructure  \n",
       "9        Percent population who cannot read and write  \n",
       "10  Percent population who dont complete primary e...  \n",
       "11  Percent population who dont complete college d...  \n",
       "12                        Percentage of rented houses  \n",
       "13                 Averaged Numer of people in family  \n",
       "14     Percent households with cell phone or landline  \n",
       "15                Percent households with automobiles  "
      ]
     },
     "execution_count": 8,
     "metadata": {},
     "output_type": "execute_result"
    }
   ],
   "source": [
    "indata = pd.read_hdf('./data/inputdata_peru.hdf')\n",
    "indata_name = pd.read_hdf('./data/inputdata_peru_table.hdf')\n",
    "indata_name"
   ]
  },
  {
   "cell_type": "markdown",
   "metadata": {},
   "source": [
    "### SoVI caculation"
   ]
  },
  {
   "cell_type": "code",
   "execution_count": 3,
   "metadata": {},
   "outputs": [],
   "source": [
    "pca = SPSS_PCA(indata, reduce=True, varimax=True)"
   ]
  },
  {
   "cell_type": "code",
   "execution_count": 10,
   "metadata": {},
   "outputs": [
    {
     "name": "stdout",
     "output_type": "stream",
     "text": [
      "Mean: 0.000\n",
      "Max: 6.952\n",
      "Min: -6.758\n",
      "[[ 0.31298509]\n",
      " [-0.25260141]\n",
      " [-0.04134773]\n",
      " [-0.2237688 ]\n",
      " [-0.09388598]\n",
      " [ 0.22254948]\n",
      " [ 0.1976372 ]\n",
      " [ 0.20885664]\n",
      " [ 0.21112176]\n",
      " [ 0.19382259]\n",
      " [ 0.18951117]\n",
      " [ 0.1903221 ]\n",
      " [-0.14056831]\n",
      " [ 0.22333434]\n",
      " [ 0.16156088]\n",
      " [ 0.15069151]]\n",
      "[[ 0.76591791]\n",
      " [-0.27042443]\n",
      " [ 0.35411947]\n",
      " [-0.3845321 ]\n",
      " [-0.8460189 ]\n",
      " [ 0.41995301]\n",
      " [ 0.26451805]\n",
      " [ 0.51050518]\n",
      " [ 0.73258768]\n",
      " [ 1.17449724]\n",
      " [ 1.1646005 ]\n",
      " [ 0.88290701]\n",
      " [-0.79572357]\n",
      " [ 0.46531084]\n",
      " [ 0.70753961]\n",
      " [ 0.79674682]]\n"
     ]
    }
   ],
   "source": [
    "sovi_peru = pca.scores_rot.sum(1)\n",
    "sovi_peru = pd.DataFrame(sovi_peru, index=indata.index, columns=['sovi'])\n",
    "attrib_contribution = pca.weights_rot.sum(1)\n",
    "print('Mean: %.3f\\nMax: %.3f\\nMin: %.3f' % (sovi_peru.mean(), sovi_peru.max(), sovi_peru.min()))\n",
    "print(attrib_contribution[:,None])\n",
    "dl_stype = np.dot(pca.weights_rot,pca.eigenvals[:,None])\n",
    "print(dl_stype)"
   ]
  },
  {
   "cell_type": "markdown",
   "metadata": {},
   "source": [
    "### Mapping"
   ]
  },
  {
   "cell_type": "code",
   "execution_count": 51,
   "metadata": {},
   "outputs": [
    {
     "name": "stdout",
     "output_type": "stream",
     "text": [
      "./data/sovi_caculated.shp is saved.\n"
     ]
    }
   ],
   "source": [
    "# Merge sovi scores to geodataframe\n",
    "gdf = gpd.read_file('./data/DISTRITOS.shp')\n",
    "gdf = gdf.drop(['AREA','FUENTE','CODCCPP'], axis=1)\n",
    "gdf.IDDIST = pd.to_numeric(gdf.IDDIST)\n",
    "gdf = gdf.merge(sovi_peru, on='IDDIST', how='left')\n",
    "if False:\n",
    "    fn = './data/sovi_caculated.shp'\n",
    "    gdf.to_file(fn)\n",
    "    print('%s is saved.' % fn)"
   ]
  },
  {
   "cell_type": "code",
   "execution_count": 46,
   "metadata": {},
   "outputs": [
    {
     "data": {
      "text/plain": [
       "<matplotlib.axes._subplots.AxesSubplot at 0x133731b70>"
      ]
     },
     "execution_count": 46,
     "metadata": {},
     "output_type": "execute_result"
    },
    {
     "data": {
      "image/png": "[encoded data removed]",
      "text/plain": [
       "<Figure size 432x288 with 1 Axes>"
      ]
     },
     "metadata": {
      "needs_background": "light"
     },
     "output_type": "display_data"
    }
   ],
   "source": [
    "# Mapping\n",
    "import seaborn as sns\n",
    "import matplotlib.pyplot as plt\n",
    "\n",
    "\n",
    "\n",
    "\n",
    "\n",
    "# gdf.plot(column='sovi')"
   ]
  },
  {
   "cell_type": "code",
   "execution_count": null,
   "metadata": {},
   "outputs": [],
   "source": []
  }
 ],
 "metadata": {
  "kernelspec": {
   "display_name": "Python 3",
   "language": "python",
   "name": "python3"
  },
  "language_info": {
   "codemirror_mode": {
    "name": "ipython",
    "version": 3
   },
   "file_extension": ".py",
   "mimetype": "text/x-python",
   "name": "python",
   "nbconvert_exporter": "python",
   "pygments_lexer": "ipython3",
   "version": "3.6.7"
  }
 },
 "nbformat": 4,
 "nbformat_minor": 2
}
